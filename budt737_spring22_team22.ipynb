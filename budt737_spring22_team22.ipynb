{
 "cells": [
  {
   "cell_type": "markdown",
   "metadata": {},
   "source": [
    "# *DIGIT RECOGNISER*\n",
    "\n",
    "\n",
    "We come across handwritten digits in almost every walk of life - postal mails, data entered on forms, \n",
    "bank cheques etc. Most of these have to be dealt with, through scanning the documents on which these digits\n",
    "are written. It’s important for the digits to not be read incorrectly. Otherwise, mails could be delivered to wrong addresses, incorrect bank account numbers or incorrect amounts read from the cheques could lead to check bounces or incorrect transactions. \n",
    "The problem at hand is to use machine learning algorithms & neural networks to train the data in such a way that one of them efficiently recognizes handwritten digits with as much maximum accuracy as possible on the validation data. \n"
   ]
  },
  {
   "cell_type": "code",
   "execution_count": 1,
   "metadata": {
    "id": "Xc3igljAept6"
   },
   "outputs": [],
   "source": [
    "#Import required packages\n",
    "import numpy as np\n",
    "import pandas as pd\n",
    "import matplotlib.pyplot as plt\n",
    "from tensorflow import keras\n",
    "from sklearn.model_selection import train_test_split, ShuffleSplit\n",
    "import tensorflow as tf\n",
    "from sklearn.linear_model import SGDClassifier,LogisticRegression\n",
    "from sklearn.tree import DecisionTreeClassifier\n",
    "from sklearn.svm import SVC\n",
    "from sklearn.ensemble import RandomForestClassifier\n",
    "from sklearn.metrics import confusion_matrix\n",
    "from sklearn.metrics import accuracy_score, confusion_matrix, precision_score, recall_score, classification_report\n",
    "import random\n",
    "seed_value= 123\n",
    "random.seed(seed_value)\n",
    "np.random.seed(seed_value)\n",
    "\n",
    "import warnings\n",
    "warnings.filterwarnings(\"ignore\")"
   ]
  },
  {
   "cell_type": "code",
   "execution_count": 3,
   "metadata": {
    "colab": {
     "base_uri": "https://localhost:8080/"
    },
    "id": "3VIoYHOvgxad",
    "outputId": "1fead18d-61e4-4684-cbf9-71b3b4e6e655"
   },
   "outputs": [
    {
     "name": "stdout",
     "output_type": "stream",
     "text": [
      "Requirement already satisfied: kaggle in /usr/local/lib/python3.7/dist-packages (1.5.12)\n",
      "Requirement already satisfied: certifi in /usr/local/lib/python3.7/dist-packages (from kaggle) (2021.10.8)\n",
      "Requirement already satisfied: python-dateutil in /usr/local/lib/python3.7/dist-packages (from kaggle) (2.8.2)\n",
      "Requirement already satisfied: six>=1.10 in /usr/local/lib/python3.7/dist-packages (from kaggle) (1.15.0)\n",
      "Requirement already satisfied: python-slugify in /usr/local/lib/python3.7/dist-packages (from kaggle) (6.1.2)\n",
      "Requirement already satisfied: urllib3 in /usr/local/lib/python3.7/dist-packages (from kaggle) (1.24.3)\n",
      "Requirement already satisfied: tqdm in /usr/local/lib/python3.7/dist-packages (from kaggle) (4.64.0)\n",
      "Requirement already satisfied: requests in /usr/local/lib/python3.7/dist-packages (from kaggle) (2.23.0)\n",
      "Requirement already satisfied: text-unidecode>=1.3 in /usr/local/lib/python3.7/dist-packages (from python-slugify->kaggle) (1.3)\n",
      "Requirement already satisfied: idna<3,>=2.5 in /usr/local/lib/python3.7/dist-packages (from requests->kaggle) (2.10)\n",
      "Requirement already satisfied: chardet<4,>=3.0.2 in /usr/local/lib/python3.7/dist-packages (from requests->kaggle) (3.0.4)\n"
     ]
    }
   ],
   "source": [
    "#Importing data from Kaggle\n",
    "pip install kaggle"
   ]
  },
  {
   "cell_type": "code",
   "execution_count": 4,
   "metadata": {
    "id": "m47_QWQwiGtQ"
   },
   "outputs": [],
   "source": [
    "! mkdir ~/.kaggle"
   ]
  },
  {
   "cell_type": "code",
   "execution_count": 5,
   "metadata": {
    "id": "_dmFMF6ST3zE"
   },
   "outputs": [],
   "source": [
    "! cp kaggle.json ~/.kaggle/\n"
   ]
  },
  {
   "cell_type": "code",
   "execution_count": 6,
   "metadata": {
    "id": "vGCoZkHBT3uC"
   },
   "outputs": [],
   "source": [
    "! chmod 600 ~/.kaggle/kaggle.json\n"
   ]
  },
  {
   "cell_type": "code",
   "execution_count": 7,
   "metadata": {
    "colab": {
     "base_uri": "https://localhost:8080/"
    },
    "id": "3CXGMcsLT3o3",
    "outputId": "ef18e3bb-37c7-4485-994a-89bd1e7793c8"
   },
   "outputs": [
    {
     "name": "stdout",
     "output_type": "stream",
     "text": [
      "Downloading digit-recognizer.zip to /content\n",
      "\r",
      "  0% 0.00/15.3M [00:00<?, ?B/s]\n",
      "\r",
      "100% 15.3M/15.3M [00:00<00:00, 208MB/s]\n"
     ]
    }
   ],
   "source": [
    "#Download digit rceognizer data from Kaggle Competition\n",
    "! kaggle competitions download digit-recognizer\n"
   ]
  },
  {
   "cell_type": "code",
   "execution_count": 8,
   "metadata": {
    "colab": {
     "base_uri": "https://localhost:8080/"
    },
    "id": "qVGww9jGTn6_",
    "outputId": "da84f8a3-1581-4054-8708-9d2bebb736e4"
   },
   "outputs": [
    {
     "name": "stdout",
     "output_type": "stream",
     "text": [
      "Archive:  digit-recognizer.zip\n",
      "  inflating: sample_submission.csv   \n",
      "  inflating: test.csv                \n",
      "  inflating: train.csv               \n"
     ]
    }
   ],
   "source": [
    "! unzip digit-recognizer"
   ]
  },
  {
   "cell_type": "code",
   "execution_count": 9,
   "metadata": {
    "colab": {
     "base_uri": "https://localhost:8080/",
     "height": 297
    },
    "id": "-2Vd2o9qept7",
    "outputId": "28dfa468-a10d-4cb8-9767-429ceefc36b5"
   },
   "outputs": [
    {
     "data": {
      "text/html": [
       "\n",
       "  <div id=\"df-ff86ed50-c0a5-484c-b2e8-f1a4c8a3b38a\">\n",
       "    <div class=\"colab-df-container\">\n",
       "      <div>\n",
       "<style scoped>\n",
       "    .dataframe tbody tr th:only-of-type {\n",
       "        vertical-align: middle;\n",
       "    }\n",
       "\n",
       "    .dataframe tbody tr th {\n",
       "        vertical-align: top;\n",
       "    }\n",
       "\n",
       "    .dataframe thead th {\n",
       "        text-align: right;\n",
       "    }\n",
       "</style>\n",
       "<table border=\"1\" class=\"dataframe\">\n",
       "  <thead>\n",
       "    <tr style=\"text-align: right;\">\n",
       "      <th></th>\n",
       "      <th>label</th>\n",
       "      <th>pixel0</th>\n",
       "      <th>pixel1</th>\n",
       "      <th>pixel2</th>\n",
       "      <th>pixel3</th>\n",
       "      <th>pixel4</th>\n",
       "      <th>pixel5</th>\n",
       "      <th>pixel6</th>\n",
       "      <th>pixel7</th>\n",
       "      <th>pixel8</th>\n",
       "      <th>...</th>\n",
       "      <th>pixel774</th>\n",
       "      <th>pixel775</th>\n",
       "      <th>pixel776</th>\n",
       "      <th>pixel777</th>\n",
       "      <th>pixel778</th>\n",
       "      <th>pixel779</th>\n",
       "      <th>pixel780</th>\n",
       "      <th>pixel781</th>\n",
       "      <th>pixel782</th>\n",
       "      <th>pixel783</th>\n",
       "    </tr>\n",
       "  </thead>\n",
       "  <tbody>\n",
       "    <tr>\n",
       "      <th>0</th>\n",
       "      <td>1</td>\n",
       "      <td>0</td>\n",
       "      <td>0</td>\n",
       "      <td>0</td>\n",
       "      <td>0</td>\n",
       "      <td>0</td>\n",
       "      <td>0</td>\n",
       "      <td>0</td>\n",
       "      <td>0</td>\n",
       "      <td>0</td>\n",
       "      <td>...</td>\n",
       "      <td>0</td>\n",
       "      <td>0</td>\n",
       "      <td>0</td>\n",
       "      <td>0</td>\n",
       "      <td>0</td>\n",
       "      <td>0</td>\n",
       "      <td>0</td>\n",
       "      <td>0</td>\n",
       "      <td>0</td>\n",
       "      <td>0</td>\n",
       "    </tr>\n",
       "    <tr>\n",
       "      <th>1</th>\n",
       "      <td>0</td>\n",
       "      <td>0</td>\n",
       "      <td>0</td>\n",
       "      <td>0</td>\n",
       "      <td>0</td>\n",
       "      <td>0</td>\n",
       "      <td>0</td>\n",
       "      <td>0</td>\n",
       "      <td>0</td>\n",
       "      <td>0</td>\n",
       "      <td>...</td>\n",
       "      <td>0</td>\n",
       "      <td>0</td>\n",
       "      <td>0</td>\n",
       "      <td>0</td>\n",
       "      <td>0</td>\n",
       "      <td>0</td>\n",
       "      <td>0</td>\n",
       "      <td>0</td>\n",
       "      <td>0</td>\n",
       "      <td>0</td>\n",
       "    </tr>\n",
       "    <tr>\n",
       "      <th>2</th>\n",
       "      <td>1</td>\n",
       "      <td>0</td>\n",
       "      <td>0</td>\n",
       "      <td>0</td>\n",
       "      <td>0</td>\n",
       "      <td>0</td>\n",
       "      <td>0</td>\n",
       "      <td>0</td>\n",
       "      <td>0</td>\n",
       "      <td>0</td>\n",
       "      <td>...</td>\n",
       "      <td>0</td>\n",
       "      <td>0</td>\n",
       "      <td>0</td>\n",
       "      <td>0</td>\n",
       "      <td>0</td>\n",
       "      <td>0</td>\n",
       "      <td>0</td>\n",
       "      <td>0</td>\n",
       "      <td>0</td>\n",
       "      <td>0</td>\n",
       "    </tr>\n",
       "    <tr>\n",
       "      <th>3</th>\n",
       "      <td>4</td>\n",
       "      <td>0</td>\n",
       "      <td>0</td>\n",
       "      <td>0</td>\n",
       "      <td>0</td>\n",
       "      <td>0</td>\n",
       "      <td>0</td>\n",
       "      <td>0</td>\n",
       "      <td>0</td>\n",
       "      <td>0</td>\n",
       "      <td>...</td>\n",
       "      <td>0</td>\n",
       "      <td>0</td>\n",
       "      <td>0</td>\n",
       "      <td>0</td>\n",
       "      <td>0</td>\n",
       "      <td>0</td>\n",
       "      <td>0</td>\n",
       "      <td>0</td>\n",
       "      <td>0</td>\n",
       "      <td>0</td>\n",
       "    </tr>\n",
       "    <tr>\n",
       "      <th>4</th>\n",
       "      <td>0</td>\n",
       "      <td>0</td>\n",
       "      <td>0</td>\n",
       "      <td>0</td>\n",
       "      <td>0</td>\n",
       "      <td>0</td>\n",
       "      <td>0</td>\n",
       "      <td>0</td>\n",
       "      <td>0</td>\n",
       "      <td>0</td>\n",
       "      <td>...</td>\n",
       "      <td>0</td>\n",
       "      <td>0</td>\n",
       "      <td>0</td>\n",
       "      <td>0</td>\n",
       "      <td>0</td>\n",
       "      <td>0</td>\n",
       "      <td>0</td>\n",
       "      <td>0</td>\n",
       "      <td>0</td>\n",
       "      <td>0</td>\n",
       "    </tr>\n",
       "  </tbody>\n",
       "</table>\n",
       "<p>5 rows × 785 columns</p>\n",
       "</div>\n",
       "      <button class=\"colab-df-convert\" onclick=\"convertToInteractive('df-ff86ed50-c0a5-484c-b2e8-f1a4c8a3b38a')\"\n",
       "              title=\"Convert this dataframe to an interactive table.\"\n",
       "              style=\"display:none;\">\n",
       "        \n",
       "  <svg xmlns=\"http://www.w3.org/2000/svg\" height=\"24px\"viewBox=\"0 0 24 24\"\n",
       "       width=\"24px\">\n",
       "    <path d=\"M0 0h24v24H0V0z\" fill=\"none\"/>\n",
       "    <path d=\"M18.56 5.44l.94 2.06.94-2.06 2.06-.94-2.06-.94-.94-2.06-.94 2.06-2.06.94zm-11 1L8.5 8.5l.94-2.06 2.06-.94-2.06-.94L8.5 2.5l-.94 2.06-2.06.94zm10 10l.94 2.06.94-2.06 2.06-.94-2.06-.94-.94-2.06-.94 2.06-2.06.94z\"/><path d=\"M17.41 7.96l-1.37-1.37c-.4-.4-.92-.59-1.43-.59-.52 0-1.04.2-1.43.59L10.3 9.45l-7.72 7.72c-.78.78-.78 2.05 0 2.83L4 21.41c.39.39.9.59 1.41.59.51 0 1.02-.2 1.41-.59l7.78-7.78 2.81-2.81c.8-.78.8-2.07 0-2.86zM5.41 20L4 18.59l7.72-7.72 1.47 1.35L5.41 20z\"/>\n",
       "  </svg>\n",
       "      </button>\n",
       "      \n",
       "  <style>\n",
       "    .colab-df-container {\n",
       "      display:flex;\n",
       "      flex-wrap:wrap;\n",
       "      gap: 12px;\n",
       "    }\n",
       "\n",
       "    .colab-df-convert {\n",
       "      background-color: #E8F0FE;\n",
       "      border: none;\n",
       "      border-radius: 50%;\n",
       "      cursor: pointer;\n",
       "      display: none;\n",
       "      fill: #1967D2;\n",
       "      height: 32px;\n",
       "      padding: 0 0 0 0;\n",
       "      width: 32px;\n",
       "    }\n",
       "\n",
       "    .colab-df-convert:hover {\n",
       "      background-color: #E2EBFA;\n",
       "      box-shadow: 0px 1px 2px rgba(60, 64, 67, 0.3), 0px 1px 3px 1px rgba(60, 64, 67, 0.15);\n",
       "      fill: #174EA6;\n",
       "    }\n",
       "\n",
       "    [theme=dark] .colab-df-convert {\n",
       "      background-color: #3B4455;\n",
       "      fill: #D2E3FC;\n",
       "    }\n",
       "\n",
       "    [theme=dark] .colab-df-convert:hover {\n",
       "      background-color: #434B5C;\n",
       "      box-shadow: 0px 1px 3px 1px rgba(0, 0, 0, 0.15);\n",
       "      filter: drop-shadow(0px 1px 2px rgba(0, 0, 0, 0.3));\n",
       "      fill: #FFFFFF;\n",
       "    }\n",
       "  </style>\n",
       "\n",
       "      <script>\n",
       "        const buttonEl =\n",
       "          document.querySelector('#df-ff86ed50-c0a5-484c-b2e8-f1a4c8a3b38a button.colab-df-convert');\n",
       "        buttonEl.style.display =\n",
       "          google.colab.kernel.accessAllowed ? 'block' : 'none';\n",
       "\n",
       "        async function convertToInteractive(key) {\n",
       "          const element = document.querySelector('#df-ff86ed50-c0a5-484c-b2e8-f1a4c8a3b38a');\n",
       "          const dataTable =\n",
       "            await google.colab.kernel.invokeFunction('convertToInteractive',\n",
       "                                                     [key], {});\n",
       "          if (!dataTable) return;\n",
       "\n",
       "          const docLinkHtml = 'Like what you see? Visit the ' +\n",
       "            '<a target=\"_blank\" href=https://colab.research.google.com/notebooks/data_table.ipynb>data table notebook</a>'\n",
       "            + ' to learn more about interactive tables.';\n",
       "          element.innerHTML = '';\n",
       "          dataTable['output_type'] = 'display_data';\n",
       "          await google.colab.output.renderOutput(dataTable, element);\n",
       "          const docLink = document.createElement('div');\n",
       "          docLink.innerHTML = docLinkHtml;\n",
       "          element.appendChild(docLink);\n",
       "        }\n",
       "      </script>\n",
       "    </div>\n",
       "  </div>\n",
       "  "
      ],
      "text/plain": [
       "   label  pixel0  pixel1  pixel2  pixel3  pixel4  pixel5  pixel6  pixel7  \\\n",
       "0      1       0       0       0       0       0       0       0       0   \n",
       "1      0       0       0       0       0       0       0       0       0   \n",
       "2      1       0       0       0       0       0       0       0       0   \n",
       "3      4       0       0       0       0       0       0       0       0   \n",
       "4      0       0       0       0       0       0       0       0       0   \n",
       "\n",
       "   pixel8  ...  pixel774  pixel775  pixel776  pixel777  pixel778  pixel779  \\\n",
       "0       0  ...         0         0         0         0         0         0   \n",
       "1       0  ...         0         0         0         0         0         0   \n",
       "2       0  ...         0         0         0         0         0         0   \n",
       "3       0  ...         0         0         0         0         0         0   \n",
       "4       0  ...         0         0         0         0         0         0   \n",
       "\n",
       "   pixel780  pixel781  pixel782  pixel783  \n",
       "0         0         0         0         0  \n",
       "1         0         0         0         0  \n",
       "2         0         0         0         0  \n",
       "3         0         0         0         0  \n",
       "4         0         0         0         0  \n",
       "\n",
       "[5 rows x 785 columns]"
      ]
     },
     "execution_count": 9,
     "metadata": {},
     "output_type": "execute_result"
    }
   ],
   "source": [
    "#Read test and train data sets\n",
    "train=pd.read_csv(\"/content/train.csv\")\n",
    "test=pd.read_csv(\"/content/test.csv\")\n",
    "train.head()"
   ]
  },
  {
   "cell_type": "code",
   "execution_count": 10,
   "metadata": {
    "colab": {
     "base_uri": "https://localhost:8080/"
    },
    "id": "WH4wyHWwept7",
    "outputId": "fe678924-a5eb-4c2b-b48f-4557861267f2"
   },
   "outputs": [
    {
     "data": {
      "text/plain": [
       "(42000, 785)"
      ]
     },
     "execution_count": 10,
     "metadata": {},
     "output_type": "execute_result"
    }
   ],
   "source": [
    "#Shape of Train dataset\n",
    "train.shape"
   ]
  },
  {
   "cell_type": "markdown",
   "metadata": {
    "id": "SXCrZGixept8"
   },
   "source": [
    "The data consists of 785 columns - 1 Label and 784 pixel columns. Every row has a 28x28 image which is shown in tabular format in a row with 784 columns which consist of values from 0-255 indicating lightness/darkness of the respective pixel. Label column shows the digit drawn by the user.\n"
   ]
  },
  {
   "cell_type": "code",
   "execution_count": 11,
   "metadata": {
    "colab": {
     "base_uri": "https://localhost:8080/",
     "height": 297
    },
    "id": "9Yd7Vbq8ept9",
    "outputId": "d6205dd5-f555-42e3-c776-a9b615e7cd03"
   },
   "outputs": [
    {
     "data": {
      "text/html": [
       "\n",
       "  <div id=\"df-23253ddc-6622-4d95-917e-580a0ec2db14\">\n",
       "    <div class=\"colab-df-container\">\n",
       "      <div>\n",
       "<style scoped>\n",
       "    .dataframe tbody tr th:only-of-type {\n",
       "        vertical-align: middle;\n",
       "    }\n",
       "\n",
       "    .dataframe tbody tr th {\n",
       "        vertical-align: top;\n",
       "    }\n",
       "\n",
       "    .dataframe thead th {\n",
       "        text-align: right;\n",
       "    }\n",
       "</style>\n",
       "<table border=\"1\" class=\"dataframe\">\n",
       "  <thead>\n",
       "    <tr style=\"text-align: right;\">\n",
       "      <th></th>\n",
       "      <th>pixel0</th>\n",
       "      <th>pixel1</th>\n",
       "      <th>pixel2</th>\n",
       "      <th>pixel3</th>\n",
       "      <th>pixel4</th>\n",
       "      <th>pixel5</th>\n",
       "      <th>pixel6</th>\n",
       "      <th>pixel7</th>\n",
       "      <th>pixel8</th>\n",
       "      <th>pixel9</th>\n",
       "      <th>...</th>\n",
       "      <th>pixel774</th>\n",
       "      <th>pixel775</th>\n",
       "      <th>pixel776</th>\n",
       "      <th>pixel777</th>\n",
       "      <th>pixel778</th>\n",
       "      <th>pixel779</th>\n",
       "      <th>pixel780</th>\n",
       "      <th>pixel781</th>\n",
       "      <th>pixel782</th>\n",
       "      <th>pixel783</th>\n",
       "    </tr>\n",
       "  </thead>\n",
       "  <tbody>\n",
       "    <tr>\n",
       "      <th>0</th>\n",
       "      <td>0</td>\n",
       "      <td>0</td>\n",
       "      <td>0</td>\n",
       "      <td>0</td>\n",
       "      <td>0</td>\n",
       "      <td>0</td>\n",
       "      <td>0</td>\n",
       "      <td>0</td>\n",
       "      <td>0</td>\n",
       "      <td>0</td>\n",
       "      <td>...</td>\n",
       "      <td>0</td>\n",
       "      <td>0</td>\n",
       "      <td>0</td>\n",
       "      <td>0</td>\n",
       "      <td>0</td>\n",
       "      <td>0</td>\n",
       "      <td>0</td>\n",
       "      <td>0</td>\n",
       "      <td>0</td>\n",
       "      <td>0</td>\n",
       "    </tr>\n",
       "    <tr>\n",
       "      <th>1</th>\n",
       "      <td>0</td>\n",
       "      <td>0</td>\n",
       "      <td>0</td>\n",
       "      <td>0</td>\n",
       "      <td>0</td>\n",
       "      <td>0</td>\n",
       "      <td>0</td>\n",
       "      <td>0</td>\n",
       "      <td>0</td>\n",
       "      <td>0</td>\n",
       "      <td>...</td>\n",
       "      <td>0</td>\n",
       "      <td>0</td>\n",
       "      <td>0</td>\n",
       "      <td>0</td>\n",
       "      <td>0</td>\n",
       "      <td>0</td>\n",
       "      <td>0</td>\n",
       "      <td>0</td>\n",
       "      <td>0</td>\n",
       "      <td>0</td>\n",
       "    </tr>\n",
       "    <tr>\n",
       "      <th>2</th>\n",
       "      <td>0</td>\n",
       "      <td>0</td>\n",
       "      <td>0</td>\n",
       "      <td>0</td>\n",
       "      <td>0</td>\n",
       "      <td>0</td>\n",
       "      <td>0</td>\n",
       "      <td>0</td>\n",
       "      <td>0</td>\n",
       "      <td>0</td>\n",
       "      <td>...</td>\n",
       "      <td>0</td>\n",
       "      <td>0</td>\n",
       "      <td>0</td>\n",
       "      <td>0</td>\n",
       "      <td>0</td>\n",
       "      <td>0</td>\n",
       "      <td>0</td>\n",
       "      <td>0</td>\n",
       "      <td>0</td>\n",
       "      <td>0</td>\n",
       "    </tr>\n",
       "    <tr>\n",
       "      <th>3</th>\n",
       "      <td>0</td>\n",
       "      <td>0</td>\n",
       "      <td>0</td>\n",
       "      <td>0</td>\n",
       "      <td>0</td>\n",
       "      <td>0</td>\n",
       "      <td>0</td>\n",
       "      <td>0</td>\n",
       "      <td>0</td>\n",
       "      <td>0</td>\n",
       "      <td>...</td>\n",
       "      <td>0</td>\n",
       "      <td>0</td>\n",
       "      <td>0</td>\n",
       "      <td>0</td>\n",
       "      <td>0</td>\n",
       "      <td>0</td>\n",
       "      <td>0</td>\n",
       "      <td>0</td>\n",
       "      <td>0</td>\n",
       "      <td>0</td>\n",
       "    </tr>\n",
       "    <tr>\n",
       "      <th>4</th>\n",
       "      <td>0</td>\n",
       "      <td>0</td>\n",
       "      <td>0</td>\n",
       "      <td>0</td>\n",
       "      <td>0</td>\n",
       "      <td>0</td>\n",
       "      <td>0</td>\n",
       "      <td>0</td>\n",
       "      <td>0</td>\n",
       "      <td>0</td>\n",
       "      <td>...</td>\n",
       "      <td>0</td>\n",
       "      <td>0</td>\n",
       "      <td>0</td>\n",
       "      <td>0</td>\n",
       "      <td>0</td>\n",
       "      <td>0</td>\n",
       "      <td>0</td>\n",
       "      <td>0</td>\n",
       "      <td>0</td>\n",
       "      <td>0</td>\n",
       "    </tr>\n",
       "  </tbody>\n",
       "</table>\n",
       "<p>5 rows × 784 columns</p>\n",
       "</div>\n",
       "      <button class=\"colab-df-convert\" onclick=\"convertToInteractive('df-23253ddc-6622-4d95-917e-580a0ec2db14')\"\n",
       "              title=\"Convert this dataframe to an interactive table.\"\n",
       "              style=\"display:none;\">\n",
       "        \n",
       "  <svg xmlns=\"http://www.w3.org/2000/svg\" height=\"24px\"viewBox=\"0 0 24 24\"\n",
       "       width=\"24px\">\n",
       "    <path d=\"M0 0h24v24H0V0z\" fill=\"none\"/>\n",
       "    <path d=\"M18.56 5.44l.94 2.06.94-2.06 2.06-.94-2.06-.94-.94-2.06-.94 2.06-2.06.94zm-11 1L8.5 8.5l.94-2.06 2.06-.94-2.06-.94L8.5 2.5l-.94 2.06-2.06.94zm10 10l.94 2.06.94-2.06 2.06-.94-2.06-.94-.94-2.06-.94 2.06-2.06.94z\"/><path d=\"M17.41 7.96l-1.37-1.37c-.4-.4-.92-.59-1.43-.59-.52 0-1.04.2-1.43.59L10.3 9.45l-7.72 7.72c-.78.78-.78 2.05 0 2.83L4 21.41c.39.39.9.59 1.41.59.51 0 1.02-.2 1.41-.59l7.78-7.78 2.81-2.81c.8-.78.8-2.07 0-2.86zM5.41 20L4 18.59l7.72-7.72 1.47 1.35L5.41 20z\"/>\n",
       "  </svg>\n",
       "      </button>\n",
       "      \n",
       "  <style>\n",
       "    .colab-df-container {\n",
       "      display:flex;\n",
       "      flex-wrap:wrap;\n",
       "      gap: 12px;\n",
       "    }\n",
       "\n",
       "    .colab-df-convert {\n",
       "      background-color: #E8F0FE;\n",
       "      border: none;\n",
       "      border-radius: 50%;\n",
       "      cursor: pointer;\n",
       "      display: none;\n",
       "      fill: #1967D2;\n",
       "      height: 32px;\n",
       "      padding: 0 0 0 0;\n",
       "      width: 32px;\n",
       "    }\n",
       "\n",
       "    .colab-df-convert:hover {\n",
       "      background-color: #E2EBFA;\n",
       "      box-shadow: 0px 1px 2px rgba(60, 64, 67, 0.3), 0px 1px 3px 1px rgba(60, 64, 67, 0.15);\n",
       "      fill: #174EA6;\n",
       "    }\n",
       "\n",
       "    [theme=dark] .colab-df-convert {\n",
       "      background-color: #3B4455;\n",
       "      fill: #D2E3FC;\n",
       "    }\n",
       "\n",
       "    [theme=dark] .colab-df-convert:hover {\n",
       "      background-color: #434B5C;\n",
       "      box-shadow: 0px 1px 3px 1px rgba(0, 0, 0, 0.15);\n",
       "      filter: drop-shadow(0px 1px 2px rgba(0, 0, 0, 0.3));\n",
       "      fill: #FFFFFF;\n",
       "    }\n",
       "  </style>\n",
       "\n",
       "      <script>\n",
       "        const buttonEl =\n",
       "          document.querySelector('#df-23253ddc-6622-4d95-917e-580a0ec2db14 button.colab-df-convert');\n",
       "        buttonEl.style.display =\n",
       "          google.colab.kernel.accessAllowed ? 'block' : 'none';\n",
       "\n",
       "        async function convertToInteractive(key) {\n",
       "          const element = document.querySelector('#df-23253ddc-6622-4d95-917e-580a0ec2db14');\n",
       "          const dataTable =\n",
       "            await google.colab.kernel.invokeFunction('convertToInteractive',\n",
       "                                                     [key], {});\n",
       "          if (!dataTable) return;\n",
       "\n",
       "          const docLinkHtml = 'Like what you see? Visit the ' +\n",
       "            '<a target=\"_blank\" href=https://colab.research.google.com/notebooks/data_table.ipynb>data table notebook</a>'\n",
       "            + ' to learn more about interactive tables.';\n",
       "          element.innerHTML = '';\n",
       "          dataTable['output_type'] = 'display_data';\n",
       "          await google.colab.output.renderOutput(dataTable, element);\n",
       "          const docLink = document.createElement('div');\n",
       "          docLink.innerHTML = docLinkHtml;\n",
       "          element.appendChild(docLink);\n",
       "        }\n",
       "      </script>\n",
       "    </div>\n",
       "  </div>\n",
       "  "
      ],
      "text/plain": [
       "   pixel0  pixel1  pixel2  pixel3  pixel4  pixel5  pixel6  pixel7  pixel8  \\\n",
       "0       0       0       0       0       0       0       0       0       0   \n",
       "1       0       0       0       0       0       0       0       0       0   \n",
       "2       0       0       0       0       0       0       0       0       0   \n",
       "3       0       0       0       0       0       0       0       0       0   \n",
       "4       0       0       0       0       0       0       0       0       0   \n",
       "\n",
       "   pixel9  ...  pixel774  pixel775  pixel776  pixel777  pixel778  pixel779  \\\n",
       "0       0  ...         0         0         0         0         0         0   \n",
       "1       0  ...         0         0         0         0         0         0   \n",
       "2       0  ...         0         0         0         0         0         0   \n",
       "3       0  ...         0         0         0         0         0         0   \n",
       "4       0  ...         0         0         0         0         0         0   \n",
       "\n",
       "   pixel780  pixel781  pixel782  pixel783  \n",
       "0         0         0         0         0  \n",
       "1         0         0         0         0  \n",
       "2         0         0         0         0  \n",
       "3         0         0         0         0  \n",
       "4         0         0         0         0  \n",
       "\n",
       "[5 rows x 784 columns]"
      ]
     },
     "execution_count": 11,
     "metadata": {},
     "output_type": "execute_result"
    }
   ],
   "source": [
    "#Looking at the test dataset\n",
    "test.head()"
   ]
  },
  {
   "cell_type": "code",
   "execution_count": 12,
   "metadata": {
    "colab": {
     "base_uri": "https://localhost:8080/"
    },
    "id": "7hSTBS7Fept9",
    "outputId": "7b4f0bbe-17e4-4b89-b602-c3fbd86886b3"
   },
   "outputs": [
    {
     "data": {
      "text/plain": [
       "(28000, 784)"
      ]
     },
     "execution_count": 12,
     "metadata": {},
     "output_type": "execute_result"
    }
   ],
   "source": [
    "test.shape"
   ]
  },
  {
   "cell_type": "markdown",
   "metadata": {
    "id": "qyuW2yIdept9"
   },
   "source": [
    "Test data has 784 pixel columns, without label column which is to be predicted"
   ]
  },
  {
   "cell_type": "code",
   "execution_count": 13,
   "metadata": {
    "id": "hQyXN8Ehept-"
   },
   "outputs": [],
   "source": [
    "#Label column\n",
    "labels = train[\"label\"]\n",
    "df_train = train.drop(\"label\", axis=1)"
   ]
  },
  {
   "cell_type": "code",
   "execution_count": 14,
   "metadata": {
    "colab": {
     "base_uri": "https://localhost:8080/",
     "height": 214
    },
    "id": "tWDalT4iept-",
    "outputId": "e8f16fb1-f635-428c-bda5-57d6a6c35f2b"
   },
   "outputs": [
    {
     "data": {
      "image/png": "[encoded data removed]",
      "text/plain": [
       "<Figure size 1440x1080 with 5 Axes>"
      ]
     },
     "metadata": {},
     "output_type": "display_data"
    }
   ],
   "source": [
    "#Looking at the images \n",
    "def print_image(r, df):\n",
    "    values = df.iloc[r].values\n",
    "    images = values.reshape(28, 28)\n",
    "    return images\n",
    "\n",
    "fig, ax = plt.subplots(1, 5, figsize=(12, 9), dpi=120)\n",
    "plt.setp(ax, xticks=[], yticks=[])\n",
    "\n",
    "n=0\n",
    "for i in [10,50,100,150,200]:\n",
    "    ax[n].imshow(print_image(i, df_train))\n",
    "    n+=1"
   ]
  },
  {
   "cell_type": "markdown",
   "metadata": {
    "id": "pEb_-IYNept_"
   },
   "source": [
    "### Train and Validation split"
   ]
  },
  {
   "cell_type": "code",
   "execution_count": 15,
   "metadata": {
    "colab": {
     "base_uri": "https://localhost:8080/"
    },
    "id": "41R-NnnUept_",
    "outputId": "fc3b2296-1fdb-43c0-fa18-a1737d5c5332"
   },
   "outputs": [
    {
     "name": "stdout",
     "output_type": "stream",
     "text": [
      "(33600, 784)\n",
      "(33600,)\n",
      "(8400, 784)\n",
      "(8400,)\n"
     ]
    }
   ],
   "source": [
    "# splitting train dataset into train and validation sets\n",
    "split = ShuffleSplit(n_splits=1, test_size=0.20, random_state=0)\n",
    "\n",
    "index_train, index_val = next(iter(split.split(df_train, labels)))\n",
    "\n",
    "X_train, X_test = df_train.iloc[index_train], df_train.iloc[index_val]\n",
    "y_train, y_test = labels.iloc[index_train], labels.iloc[index_val]\n",
    "\n",
    "print(X_train.shape)\n",
    "print(y_train.shape)\n",
    "print(X_test.shape)\n",
    "print(y_test.shape)"
   ]
  },
  {
   "cell_type": "code",
   "execution_count": 16,
   "metadata": {
    "id": "52WpUsuDept_"
   },
   "outputs": [],
   "source": [
    "# defining target names\n",
    "target_names = ['0', '1', '2', '3','4','5','6','7','8','9']"
   ]
  },
  {
   "cell_type": "markdown",
   "metadata": {
    "id": "LiSPxQyWepuA"
   },
   "source": [
    "### Modeling"
   ]
  },
  {
   "cell_type": "markdown",
   "metadata": {
    "id": "k3bKDGN9epuA"
   },
   "source": [
    "### 1. Logistic Regression"
   ]
  },
  {
   "cell_type": "markdown",
   "metadata": {},
   "source": [
    "The goal of a multiple logistic regression is to find an equation that best predicts the probability of a value of the Y variable as a function of the X variables. The independent variables then can be measured on a new value and the probability of that variable having a particular value of the dependent variable can be estimated.\n"
   ]
  },
  {
   "cell_type": "code",
   "execution_count": 17,
   "metadata": {
    "colab": {
     "base_uri": "https://localhost:8080/"
    },
    "id": "EIcohOZUepuA",
    "outputId": "24aa983c-ca49-45da-9959-be934543775f"
   },
   "outputs": [
    {
     "name": "stdout",
     "output_type": "stream",
     "text": [
      "\n",
      "Logistic Regression model score on train set:  0.9390773809523809\n",
      "\n",
      "Logistic Regression model score on validation set:  0.9175\n",
      "\n",
      "Logistic Regression Accuracy on validation set:  0.9175\n",
      "\n",
      "Precision score:  0.915731825026597\n",
      "\n",
      "Recall score:  0.915498133753365\n",
      "\n",
      "Confusion Matrix: \n",
      " [[775   0   4   2   1   4  20   2   4   1]\n",
      " [  0 942   3   3   1   2   2   0   7   1]\n",
      " [  9  12 767  14   8   4   9  11  22   4]\n",
      " [  0   2  22 772   0  33   2   7  16   9]\n",
      " [  3   7   5   0 763   3   8   4   4  30]\n",
      " [ 10   3   5  26   6 643  13   6  36   8]\n",
      " [  4   0  12   0   7   8 807   0   3   0]\n",
      " [  2   4   9   1   7   3   0 848   3  22]\n",
      " [  3   9   5  24   9  27   8   1 670  12]\n",
      " [ 11   3   2   9  18   7   0  31  11 720]]\n"
     ]
    }
   ],
   "source": [
    "# training and model validation\n",
    "model1 = LogisticRegression()\n",
    "model1.fit(X_train, y_train)\n",
    "\n",
    "lr_train_score = model1.score(X_train, y_train)\n",
    "lr_val_score = model1.score(X_test, y_test)\n",
    "\n",
    "# predicting labels validation dataset\n",
    "lr_y_pred = model1.predict(X_test)\n",
    "\n",
    "# accuaracy\n",
    "lr_accuracy = accuracy_score(y_test, lr_y_pred)\n",
    "\n",
    "# precision\n",
    "lr_precision = precision_score(y_test, lr_y_pred, average='macro')\n",
    "\n",
    "# recall\n",
    "lr_recall = recall_score(y_test, lr_y_pred, average='macro')\n",
    "\n",
    "# confusion matrix\n",
    "lr_confusionmat = confusion_matrix(y_test, lr_y_pred)\n",
    "\n",
    "print(\"\\nLogistic Regression model score on train set: \", lr_train_score)\n",
    "print(\"\\nLogistic Regression model score on validation set: \", lr_val_score)\n",
    "print(\"\\nLogistic Regression Accuracy on validation set: \", lr_accuracy)\n",
    "print(\"\\nPrecision score: \", lr_precision)\n",
    "print(\"\\nRecall score: \", lr_recall)\n",
    "print(\"\\nConfusion Matrix: \\n\", lr_confusionmat)"
   ]
  },
  {
   "cell_type": "code",
   "execution_count": 18,
   "metadata": {
    "colab": {
     "base_uri": "https://localhost:8080/"
    },
    "id": "wPegqWzSepuB",
    "outputId": "ee42319c-62a3-4a40-c53a-755e589e392c"
   },
   "outputs": [
    {
     "name": "stdout",
     "output_type": "stream",
     "text": [
      "Logistic Regression Classification Report: \n",
      "\n",
      "              precision    recall  f1-score   support\n",
      "\n",
      "           0       0.95      0.95      0.95       813\n",
      "           1       0.96      0.98      0.97       961\n",
      "           2       0.92      0.89      0.91       860\n",
      "           3       0.91      0.89      0.90       863\n",
      "           4       0.93      0.92      0.93       827\n",
      "           5       0.88      0.85      0.86       756\n",
      "           6       0.93      0.96      0.94       841\n",
      "           7       0.93      0.94      0.94       899\n",
      "           8       0.86      0.87      0.87       768\n",
      "           9       0.89      0.89      0.89       812\n",
      "\n",
      "    accuracy                           0.92      8400\n",
      "   macro avg       0.92      0.92      0.92      8400\n",
      "weighted avg       0.92      0.92      0.92      8400\n",
      "\n"
     ]
    }
   ],
   "source": [
    "print(\"Logistic Regression Classification Report: \\n\")\n",
    "print(classification_report(y_test, lr_y_pred, target_names=target_names))"
   ]
  },
  {
   "cell_type": "code",
   "execution_count": 19,
   "metadata": {
    "colab": {
     "base_uri": "https://localhost:8080/",
     "height": 428
    },
    "id": "IaRV2BpeepuB",
    "outputId": "fab8cd7e-bd4e-4846-9186-a554d4f04018"
   },
   "outputs": [
    {
     "data": {
      "image/png": "[encoded data removed]",
      "text/plain": [
       "<Figure size 504x504 with 2 Axes>"
      ]
     },
     "metadata": {
      "needs_background": "light"
     },
     "output_type": "display_data"
    }
   ],
   "source": [
    "# plot Confusion Matrix Data as a Matrix\n",
    "plt.rcParams[\"figure.figsize\"] = (7,7)\n",
    "plt.matshow(lr_confusionmat)\n",
    "plt.title('Logistic Regression for Validation set')\n",
    "plt.colorbar()\n",
    "plt.ylabel('True label')\n",
    "plt.xlabel('Predicted label')\n",
    "plt.savefig('lr_confmat.png')\n",
    "plt.show()"
   ]
  },
  {
   "cell_type": "markdown",
   "metadata": {
    "id": "m0i6Xt8UepuC"
   },
   "source": [
    "### 2. Stochastic Gradient Descent"
   ]
  },
  {
   "cell_type": "markdown",
   "metadata": {},
   "source": [
    "Stochastic gradient descent is an optimization algorithm and it is used very often in machine learning applications to find the model parameters that correspond to the best fit between actual and predicted outputs. It's a naive approach but a very powerful technique.\n",
    "\n"
   ]
  },
  {
   "cell_type": "code",
   "execution_count": 20,
   "metadata": {
    "colab": {
     "base_uri": "https://localhost:8080/"
    },
    "id": "g5COmiQaepuC",
    "outputId": "db1a7244-130b-4506-8311-c3307dbef41e"
   },
   "outputs": [
    {
     "name": "stdout",
     "output_type": "stream",
     "text": [
      "\n",
      "Stochastic Gradient Descent model score on train set:  0.8892261904761904\n",
      "\n",
      "Stochastic Gradient Descent model score on validation set:  0.8710714285714286\n",
      "\n",
      "Stochastic Gradient Descent Accuracy on validation set:  0.8710714285714286\n",
      "\n",
      "Precision score:  0.8764979156136755\n",
      "\n",
      "Recall score:  0.8674090498620426\n",
      "\n",
      "Confusion Matrix: \n",
      " [[791   0   0   4   1   5   5   1   2   4]\n",
      " [  1 925   5   8   3   9   2   4   1   3]\n",
      " [  9   6 714  38  15  13  11  30  22   2]\n",
      " [  4   2  13 750   2  53   3  20   6  10]\n",
      " [  9   9   6   3 715   5   4  24   5  47]\n",
      " [ 14   2   3  19   5 683   5   8   9   8]\n",
      " [ 12   0   6   1   7  27 785   0   3   0]\n",
      " [  3   5   6   2   8   2   2 859   1  11]\n",
      " [  8   7   2  63   9 151  10  13 480  25]\n",
      " [ 10   1   2  18  21  23   0 118   4 615]]\n"
     ]
    }
   ],
   "source": [
    "# training and model validation\n",
    "model2 = SGDClassifier()\n",
    "model2.fit(X_train, y_train)\n",
    "\n",
    "sgd_train_score = model2.score(X_train, y_train)\n",
    "sgd_val_score = model2.score(X_test, y_test)\n",
    "\n",
    "# predicting labels validation dataset\n",
    "sgd_y_pred = model2.predict(X_test)\n",
    "\n",
    "# accuaracy\n",
    "sgd_accuracy = accuracy_score(y_test, sgd_y_pred)\n",
    "\n",
    "# precision\n",
    "sgd_precision = precision_score(y_test, sgd_y_pred, average='macro')\n",
    "\n",
    "# recall\n",
    "sgd_recall = recall_score(y_test, sgd_y_pred, average='macro')\n",
    "\n",
    "# confusion matrix\n",
    "sgd_confusionmat = confusion_matrix(y_test, sgd_y_pred)\n",
    "\n",
    "print(\"\\nStochastic Gradient Descent model score on train set: \", sgd_train_score)\n",
    "print(\"\\nStochastic Gradient Descent model score on validation set: \", sgd_val_score)\n",
    "print(\"\\nStochastic Gradient Descent Accuracy on validation set: \", sgd_accuracy)\n",
    "print(\"\\nPrecision score: \", sgd_precision)\n",
    "print(\"\\nRecall score: \", sgd_recall)\n",
    "print(\"\\nConfusion Matrix: \\n\", sgd_confusionmat)"
   ]
  },
  {
   "cell_type": "code",
   "execution_count": 21,
   "metadata": {
    "colab": {
     "base_uri": "https://localhost:8080/"
    },
    "id": "vowpwQEbepuD",
    "outputId": "7df210f1-3bdd-4043-daf2-d10f3624c2d4"
   },
   "outputs": [
    {
     "name": "stdout",
     "output_type": "stream",
     "text": [
      "Stochastic Gradient Descent Classification Report: \n",
      "\n",
      "              precision    recall  f1-score   support\n",
      "\n",
      "           0       0.92      0.97      0.95       813\n",
      "           1       0.97      0.96      0.96       961\n",
      "           2       0.94      0.83      0.88       860\n",
      "           3       0.83      0.87      0.85       863\n",
      "           4       0.91      0.86      0.89       827\n",
      "           5       0.70      0.90      0.79       756\n",
      "           6       0.95      0.93      0.94       841\n",
      "           7       0.80      0.96      0.87       899\n",
      "           8       0.90      0.62      0.74       768\n",
      "           9       0.85      0.76      0.80       812\n",
      "\n",
      "    accuracy                           0.87      8400\n",
      "   macro avg       0.88      0.87      0.87      8400\n",
      "weighted avg       0.88      0.87      0.87      8400\n",
      "\n"
     ]
    }
   ],
   "source": [
    "print(\"Stochastic Gradient Descent Classification Report: \\n\")\n",
    "print(classification_report(y_test, sgd_y_pred, target_names=target_names))"
   ]
  },
  {
   "cell_type": "code",
   "execution_count": 22,
   "metadata": {
    "colab": {
     "base_uri": "https://localhost:8080/",
     "height": 428
    },
    "id": "Nu4H4hYiepuD",
    "outputId": "a9b2af38-ab31-4596-ddc5-523d24b84d45"
   },
   "outputs": [
    {
     "data": {
      "image/png": "[encoded data removed]",
      "text/plain": [
       "<Figure size 504x504 with 2 Axes>"
      ]
     },
     "metadata": {
      "needs_background": "light"
     },
     "output_type": "display_data"
    }
   ],
   "source": [
    "# plot Confusion Matrix Data as a Matrix\n",
    "plt.rcParams[\"figure.figsize\"] = (7,7)\n",
    "plt.matshow(sgd_confusionmat)\n",
    "plt.title('Stochastic Gradient Descent for Validation set')\n",
    "plt.colorbar()\n",
    "plt.ylabel('True label')\n",
    "plt.xlabel('Predicted label')\n",
    "plt.savefig('sgd_confmat.png')\n",
    "plt.show()"
   ]
  },
  {
   "cell_type": "markdown",
   "metadata": {
    "id": "czPYoknNepuE"
   },
   "source": [
    "### 3. Support Vector Machine"
   ]
  },
  {
   "cell_type": "markdown",
   "metadata": {},
   "source": [
    "Support vector machines are supervised machine learning algorithms. They are suitable for both regression and classification tasks. One or more hyperplanes are constructed in n-dimensional space and the hyperplane having the largest distance to the nearest training points of any class is considered as the best separation for the classifier.\n"
   ]
  },
  {
   "cell_type": "code",
   "execution_count": 23,
   "metadata": {
    "colab": {
     "base_uri": "https://localhost:8080/"
    },
    "id": "daaHaX0oepuE",
    "outputId": "f832a0d3-b11f-4fb2-cb09-0be7e168da12"
   },
   "outputs": [
    {
     "name": "stdout",
     "output_type": "stream",
     "text": [
      "\n",
      "Support Vector Machine model score on train set:  0.9892559523809524\n",
      "\n",
      "Support Vector Machine model score on validation set:  0.9747619047619047\n",
      "\n",
      "Support Vector Machine Accuracy on validation set:  0.9747619047619047\n",
      "\n",
      "Precision score:  0.9743998324619803\n",
      "\n",
      "Recall score:  0.9746146061460561\n",
      "\n",
      "Confusion Matrix: \n",
      " [[801   0   1   0   1   3   3   0   4   0]\n",
      " [  0 953   3   2   0   0   0   1   2   0]\n",
      " [  2   1 843   2   1   0   0   5   6   0]\n",
      " [  1   1  11 821   0  12   2   4   9   2]\n",
      " [  1   3   2   0 800   1   4   2   0  14]\n",
      " [  2   0   0   4   0 743   6   0   1   0]\n",
      " [  2   0   0   0   2   5 831   0   1   0]\n",
      " [  0   2   6   1   6   2   0 873   3   6]\n",
      " [  2   3   0   3   3   5   4   0 747   1]\n",
      " [  5   2   2   4   9   1   0  11   2 776]]\n"
     ]
    }
   ],
   "source": [
    "# training and model validation\n",
    "model3 = SVC()\n",
    "model3.fit(X_train, y_train)\n",
    "\n",
    "svc_train_score = model3.score(X_train, y_train)\n",
    "svc_val_score = model3.score(X_test, y_test)\n",
    "\n",
    "# predicting labels validation dataset\n",
    "svc_y_pred = model3.predict(X_test)\n",
    "\n",
    "# accuaracy\n",
    "svc_accuracy = accuracy_score(y_test, svc_y_pred)\n",
    "\n",
    "# precision\n",
    "svc_precision = precision_score(y_test, svc_y_pred, average='macro')\n",
    "\n",
    "# recall\n",
    "svc_recall = recall_score(y_test, svc_y_pred, average='macro')\n",
    "\n",
    "# confusion matrix\n",
    "svc_confusionmat = confusion_matrix(y_test, svc_y_pred)\n",
    "\n",
    "print(\"\\nSupport Vector Machine model score on train set: \", svc_train_score)\n",
    "print(\"\\nSupport Vector Machine model score on validation set: \", svc_val_score)\n",
    "print(\"\\nSupport Vector Machine Accuracy on validation set: \", svc_accuracy)\n",
    "print(\"\\nPrecision score: \", svc_precision)\n",
    "print(\"\\nRecall score: \", svc_recall)\n",
    "print(\"\\nConfusion Matrix: \\n\", svc_confusionmat)"
   ]
  },
  {
   "cell_type": "code",
   "execution_count": 24,
   "metadata": {
    "colab": {
     "base_uri": "https://localhost:8080/"
    },
    "id": "QKSQldqeepuE",
    "outputId": "529f1560-1ebd-4e2f-fca0-231ab12757a5"
   },
   "outputs": [
    {
     "name": "stdout",
     "output_type": "stream",
     "text": [
      "Support Vector Machine Classification Report: \n",
      "\n",
      "              precision    recall  f1-score   support\n",
      "\n",
      "           0       0.98      0.99      0.98       813\n",
      "           1       0.99      0.99      0.99       961\n",
      "           2       0.97      0.98      0.98       860\n",
      "           3       0.98      0.95      0.97       863\n",
      "           4       0.97      0.97      0.97       827\n",
      "           5       0.96      0.98      0.97       756\n",
      "           6       0.98      0.99      0.98       841\n",
      "           7       0.97      0.97      0.97       899\n",
      "           8       0.96      0.97      0.97       768\n",
      "           9       0.97      0.96      0.96       812\n",
      "\n",
      "    accuracy                           0.97      8400\n",
      "   macro avg       0.97      0.97      0.97      8400\n",
      "weighted avg       0.97      0.97      0.97      8400\n",
      "\n"
     ]
    }
   ],
   "source": [
    "print(\"Support Vector Machine Classification Report: \\n\")\n",
    "print(classification_report(y_test, svc_y_pred, target_names=target_names))"
   ]
  },
  {
   "cell_type": "code",
   "execution_count": 25,
   "metadata": {
    "colab": {
     "base_uri": "https://localhost:8080/",
     "height": 428
    },
    "id": "UBP5k4yzepuF",
    "outputId": "1771c65d-37c8-41e3-9906-59238eddeeaf"
   },
   "outputs": [
    {
     "data": {
      "image/png": "[encoded data removed]",
      "text/plain": [
       "<Figure size 504x504 with 2 Axes>"
      ]
     },
     "metadata": {
      "needs_background": "light"
     },
     "output_type": "display_data"
    }
   ],
   "source": [
    "# plot Confusion Matrix Data as a Matrix\n",
    "plt.rcParams[\"figure.figsize\"] = (7,7)\n",
    "plt.matshow(svc_confusionmat)\n",
    "plt.title('Support Vector Machine for Validation set')\n",
    "plt.colorbar()\n",
    "plt.ylabel('True label')\n",
    "plt.xlabel('Predicted label')\n",
    "plt.savefig('svc_confmat.png')\n",
    "plt.show()"
   ]
  },
  {
   "cell_type": "markdown",
   "metadata": {
    "id": "vflOiWDdepuF"
   },
   "source": [
    "### 4. Decision Tree"
   ]
  },
  {
   "cell_type": "markdown",
   "metadata": {},
   "source": [
    "A decision tree is a supervised machine learning technique. Decision trees make predictions based on how a previous set of questions were answered in respective with the data."
   ]
  },
  {
   "cell_type": "code",
   "execution_count": 26,
   "metadata": {
    "colab": {
     "base_uri": "https://localhost:8080/"
    },
    "id": "AILjRGjrepuF",
    "outputId": "88d97cb2-9fc1-4bcf-8cdd-f27d42478926"
   },
   "outputs": [
    {
     "name": "stdout",
     "output_type": "stream",
     "text": [
      "\n",
      "Decision Tree model score on train set:  1.0\n",
      "\n",
      "Decision Tree model score on validation set:  0.8529761904761904\n",
      "\n",
      "Decision Tree Accuracy on validation set:  0.8529761904761904\n",
      "\n",
      "Precision score:  0.8506564995138002\n",
      "\n",
      "Recall score:  0.850346067776368\n",
      "\n",
      "Confusion Matrix: \n",
      " [[739   1   4   9   2  19  16   4   8  11]\n",
      " [  2 917   7   5   5   6   4   2  10   3]\n",
      " [ 12  11 700  32  13  16  13  19  30  14]\n",
      " [ 10   8  31 695   4  47   6  20  23  19]\n",
      " [  4   8   8  10 698   9  16  11  20  43]\n",
      " [  5   2  11  50  10 606  19   7  21  25]\n",
      " [ 12   3  12   9  18  22 747   2  13   3]\n",
      " [  4   9  17  11  12   8   1 804   9  24]\n",
      " [  8  15  21  28  12  35  11   8 600  30]\n",
      " [  7   3   8  24  49  16   2  25  19 659]]\n"
     ]
    }
   ],
   "source": [
    "# training and model validation\n",
    "model4 = DecisionTreeClassifier()\n",
    "model4.fit(X_train, y_train)\n",
    "\n",
    "dt_train_score = model4.score(X_train, y_train)\n",
    "dt_val_score = model4.score(X_test, y_test)\n",
    "\n",
    "# predicting labels validation dataset\n",
    "dt_y_pred = model4.predict(X_test)\n",
    "\n",
    "# accuaracy\n",
    "dt_accuracy = accuracy_score(y_test, dt_y_pred)\n",
    "\n",
    "# precision\n",
    "dt_precision = precision_score(y_test, dt_y_pred, average='macro')\n",
    "\n",
    "# recall\n",
    "dt_recall = recall_score(y_test, dt_y_pred, average='macro')\n",
    "\n",
    "# confusion matrix\n",
    "dt_confusionmat = confusion_matrix(y_test, dt_y_pred)\n",
    "\n",
    "print(\"\\nDecision Tree model score on train set: \", dt_train_score)\n",
    "print(\"\\nDecision Tree model score on validation set: \", dt_val_score)\n",
    "print(\"\\nDecision Tree Accuracy on validation set: \", dt_accuracy)\n",
    "print(\"\\nPrecision score: \", dt_precision)\n",
    "print(\"\\nRecall score: \", dt_recall)\n",
    "print(\"\\nConfusion Matrix: \\n\", dt_confusionmat)"
   ]
  },
  {
   "cell_type": "code",
   "execution_count": 27,
   "metadata": {
    "colab": {
     "base_uri": "https://localhost:8080/"
    },
    "id": "5fn_mnOMepuG",
    "outputId": "53d53625-b4ed-4ce5-8c6e-93034821e81b"
   },
   "outputs": [
    {
     "name": "stdout",
     "output_type": "stream",
     "text": [
      "Decision Tree Classification Report: \n",
      "\n",
      "              precision    recall  f1-score   support\n",
      "\n",
      "           0       0.92      0.91      0.91       813\n",
      "           1       0.94      0.95      0.95       961\n",
      "           2       0.85      0.81      0.83       860\n",
      "           3       0.80      0.81      0.80       863\n",
      "           4       0.85      0.84      0.85       827\n",
      "           5       0.77      0.80      0.79       756\n",
      "           6       0.89      0.89      0.89       841\n",
      "           7       0.89      0.89      0.89       899\n",
      "           8       0.80      0.78      0.79       768\n",
      "           9       0.79      0.81      0.80       812\n",
      "\n",
      "    accuracy                           0.85      8400\n",
      "   macro avg       0.85      0.85      0.85      8400\n",
      "weighted avg       0.85      0.85      0.85      8400\n",
      "\n"
     ]
    }
   ],
   "source": [
    "print(\"Decision Tree Classification Report: \\n\")\n",
    "print(classification_report(y_test, dt_y_pred, target_names=target_names))"
   ]
  },
  {
   "cell_type": "code",
   "execution_count": 28,
   "metadata": {
    "colab": {
     "base_uri": "https://localhost:8080/",
     "height": 421
    },
    "id": "Stav3yQGepuG",
    "outputId": "192b6898-713d-4de7-8466-4820defd8c2d"
   },
   "outputs": [
    {
     "data": {
      "image/png": "[encoded data removed]",
      "text/plain": [
       "<Figure size 504x504 with 2 Axes>"
      ]
     },
     "metadata": {
      "needs_background": "light"
     },
     "output_type": "display_data"
    }
   ],
   "source": [
    "# plot Confusion Matrix Data as a Matrix\n",
    "plt.rcParams[\"figure.figsize\"] = (7,7)\n",
    "plt.matshow(dt_confusionmat)\n",
    "plt.title('Decision Tree for Validation set')\n",
    "plt.colorbar()\n",
    "plt.ylabel('True label')\n",
    "plt.xlabel('Predicted label')\n",
    "plt.savefig('svc_confmat.png')\n",
    "plt.show()"
   ]
  },
  {
   "cell_type": "markdown",
   "metadata": {
    "id": "ZZDMLIwLepuG"
   },
   "source": [
    "### 5. Random Forest Classifier"
   ]
  },
  {
   "cell_type": "markdown",
   "metadata": {},
   "source": [
    "Random Forest Classifier is an ensemble learning model.The main idea behind random forest is to prevent decision trees from overfitting. Random forest makes a decision based on votes from many decision trees which are created by using a subset of the attributes. Random Forest is suitable for both regression and classification tasks. It is also less sensitive to Outliers."
   ]
  },
  {
   "cell_type": "code",
   "execution_count": 29,
   "metadata": {
    "colab": {
     "base_uri": "https://localhost:8080/"
    },
    "id": "7Z8lnbNWepuG",
    "outputId": "412ce9bb-cfbe-45f4-dd27-0daad7e72de8"
   },
   "outputs": [
    {
     "name": "stdout",
     "output_type": "stream",
     "text": [
      "\n",
      "RandomForest Classifier model score on train set:  1.0\n",
      "\n",
      "RandomForest Classifier model score on validation set:  0.9646428571428571\n",
      "\n",
      "RandomForest Classifier Accuracy on validation set:  0.9646428571428571\n",
      "\n",
      "Precision score:  0.9641144996848279\n",
      "\n",
      "Recall score:  0.9643199885593999\n",
      "\n",
      "Confusion Matrix: \n",
      " [[794   0   1   1   2   3   5   0   7   0]\n",
      " [  0 946   7   3   2   0   0   1   2   0]\n",
      " [  3   1 835   4   2   1   3   4   6   1]\n",
      " [  2   1  14 815   0   9   2   8   9   3]\n",
      " [  2   2   1   0 797   0   3   1   3  18]\n",
      " [  2   1   1   9   0 733   6   1   2   1]\n",
      " [  2   0   0   0   2   5 829   0   2   1]\n",
      " [  1   3  12   1   5   1   0 861   3  12]\n",
      " [  1   4   2  11   2  11   4   0 729   4]\n",
      " [ 10   1   2   8  12   2   0   9   4 764]]\n"
     ]
    }
   ],
   "source": [
    "# training and model validation\n",
    "model5 = RandomForestClassifier(n_jobs=-1,random_state=0)\n",
    "model5.fit(X_train, y_train)\n",
    "\n",
    "rf_train_score = model5.score(X_train, y_train)\n",
    "rf_val_score = model5.score(X_test, y_test)\n",
    "\n",
    "# predicting labels validation dataset\n",
    "rf_y_pred = model5.predict(X_test)\n",
    "\n",
    "# accuaracy\n",
    "rf_accuracy = accuracy_score(y_test, rf_y_pred)\n",
    "\n",
    "# precision\n",
    "rf_precision = precision_score(y_test, rf_y_pred, average='macro')\n",
    "\n",
    "# recall\n",
    "rf_recall = recall_score(y_test, rf_y_pred, average='macro')\n",
    "\n",
    "# confusion matrix\n",
    "rf_confusionmat = confusion_matrix(y_test, rf_y_pred)\n",
    "\n",
    "print(\"\\nRandomForest Classifier model score on train set: \", rf_train_score)\n",
    "print(\"\\nRandomForest Classifier model score on validation set: \", rf_val_score)\n",
    "print(\"\\nRandomForest Classifier Accuracy on validation set: \", rf_accuracy)\n",
    "print(\"\\nPrecision score: \", rf_precision)\n",
    "print(\"\\nRecall score: \", rf_recall)\n",
    "print(\"\\nConfusion Matrix: \\n\", rf_confusionmat)"
   ]
  },
  {
   "cell_type": "code",
   "execution_count": 30,
   "metadata": {
    "colab": {
     "base_uri": "https://localhost:8080/"
    },
    "id": "JO0kkgWsepuH",
    "outputId": "deba8eca-1359-4086-9273-c94dac395859"
   },
   "outputs": [
    {
     "name": "stdout",
     "output_type": "stream",
     "text": [
      "Random Forest Classification Report: \n",
      "\n",
      "              precision    recall  f1-score   support\n",
      "\n",
      "           0       0.97      0.98      0.97       813\n",
      "           1       0.99      0.98      0.99       961\n",
      "           2       0.95      0.97      0.96       860\n",
      "           3       0.96      0.94      0.95       863\n",
      "           4       0.97      0.96      0.97       827\n",
      "           5       0.96      0.97      0.96       756\n",
      "           6       0.97      0.99      0.98       841\n",
      "           7       0.97      0.96      0.97       899\n",
      "           8       0.95      0.95      0.95       768\n",
      "           9       0.95      0.94      0.95       812\n",
      "\n",
      "    accuracy                           0.96      8400\n",
      "   macro avg       0.96      0.96      0.96      8400\n",
      "weighted avg       0.96      0.96      0.96      8400\n",
      "\n"
     ]
    }
   ],
   "source": [
    "print(\"Random Forest Classification Report: \\n\")\n",
    "print(classification_report(y_test, rf_y_pred, target_names=target_names))"
   ]
  },
  {
   "cell_type": "code",
   "execution_count": 31,
   "metadata": {
    "colab": {
     "base_uri": "https://localhost:8080/",
     "height": 428
    },
    "id": "T4vFTzhhepuH",
    "outputId": "60725e75-c339-4158-e03e-ebbef6f76037"
   },
   "outputs": [
    {
     "data": {
      "image/png": "[encoded data removed]",
      "text/plain": [
       "<Figure size 504x504 with 2 Axes>"
      ]
     },
     "metadata": {
      "needs_background": "light"
     },
     "output_type": "display_data"
    }
   ],
   "source": [
    "# plot Confusion Matrix Data as a Matrix\n",
    "plt.rcParams[\"figure.figsize\"] = (7,7)\n",
    "plt.matshow(rf_confusionmat)\n",
    "plt.title('Random Forest Confusion Matrix for Validation Data')\n",
    "plt.colorbar()\n",
    "plt.ylabel('True label')\n",
    "plt.xlabel('Predicted label')\n",
    "plt.savefig('rf_confmat2.png')\n",
    "plt.show()"
   ]
  },
  {
   "cell_type": "markdown",
   "metadata": {
    "id": "xxBHxaF2epuH"
   },
   "source": [
    "### 6. CNN"
   ]
  },
  {
   "cell_type": "markdown",
   "metadata": {},
   "source": [
    "CNN’s are used to perform analysis on images and visuals. These classes of neural networks can input a multi-channel image and work on it easily with minimal preprocessing required. CNN can learn multiple layers of feature representations of an image by applying filters, or transformations. We have used a network with 6 convolutional layers, 3 maxpool layers and few other layers."
   ]
  },
  {
   "cell_type": "code",
   "execution_count": 32,
   "metadata": {
    "id": "sZeCpN1hepuH"
   },
   "outputs": [],
   "source": [
    "#Developing a Keras Sequential model \n",
    "\n",
    "#Train test split\n",
    "\n",
    "X=np.array(train.drop('label',axis=1)).reshape(train.shape[0],*(28,28,1))\n",
    "y=train.label\n",
    "X_train,X_test,y_train,y_test = train_test_split(X,y)\n",
    "\n",
    "import tensorflow as tf\n",
    "#Setting seed\n",
    "tf.random.set_seed(123)\n",
    "model6 = keras.Sequential()\n",
    "#This layer creates a convolution kernel that is convolved with the layer input to produce a tensor of outputs\n",
    "model6.add(keras.layers.Conv2D(64, (3, 3), kernel_initializer='he_normal', padding='same', activation='relu', input_shape=(28,28,1)))\n",
    "model6.add(keras.layers.Conv2D(64, (3, 3), padding='same', activation='relu'))\n",
    "#Batch normalization applies a transformation that maintains the mean output close to 0 and the output standard deviation close to 1\n",
    "model6.add(keras.layers.BatchNormalization())\n",
    "#Max pooling operation for 2D spatial data\n",
    "model6.add(keras.layers.MaxPool2D(pool_size=(2, 2)))\n",
    "model6.add(keras.layers.Dropout(0.3))\n",
    "model6.add(keras.layers.Conv2D(128, (3, 3), kernel_initializer='he_normal', padding='same', activation='relu', input_shape=(28,28,1)))\n",
    "model6.add(keras.layers.Conv2D(128, (3, 3), padding='same', activation='relu'))\n",
    "model6.add(keras.layers.BatchNormalization())\n",
    "model6.add(keras.layers.MaxPool2D(pool_size=(2, 2)))\n",
    "model6.add(keras.layers.Dropout(0.3))\n",
    "model6.add(keras.layers.Conv2D(256, (3, 3), kernel_initializer='he_normal', padding='same', activation='relu', input_shape=(28,28,1)))\n",
    "model6.add(keras.layers.Conv2D(256, (3, 3), padding='same', activation='relu'))\n",
    "model6.add(keras.layers.BatchNormalization())\n",
    "model6.add(keras.layers.MaxPool2D(pool_size=(2, 2)))\n",
    "model6.add(keras.layers.Dropout(0.3))\n",
    "model6.add(keras.layers.Flatten())\n",
    "model6.add(keras.layers.Dense(2048, activation='relu'))\n",
    "model6.add(keras.layers.Dropout(0.3))\n",
    "model6.add(keras.layers.Dense(512, activation='relu'))\n",
    "model6.add(keras.layers.Dropout(0.3))\n",
    "model6.add(keras.layers.Dense(128, activation='relu'))\n",
    "model6.add(keras.layers.BatchNormalization())\n",
    "model6.add(keras.layers.Dropout(0.3))\n",
    "model6.add(keras.layers.Dense(10, activation='softmax'))\n"
   ]
  },
  {
   "cell_type": "code",
   "execution_count": 33,
   "metadata": {
    "colab": {
     "base_uri": "https://localhost:8080/"
    },
    "id": "vlStW-OkepuI",
    "outputId": "8d6380da-e569-41c1-d7ca-f8d887c5195c"
   },
   "outputs": [
    {
     "name": "stdout",
     "output_type": "stream",
     "text": [
      "Model: \"sequential\"\n",
      "_________________________________________________________________\n",
      " Layer (type)                Output Shape              Param #   \n",
      "=================================================================\n",
      " conv2d (Conv2D)             (None, 28, 28, 64)        640       \n",
      "                                                                 \n",
      " conv2d_1 (Conv2D)           (None, 28, 28, 64)        36928     \n",
      "                                                                 \n",
      " batch_normalization (BatchN  (None, 28, 28, 64)       256       \n",
      " ormalization)                                                   \n",
      "                                                                 \n",
      " max_pooling2d (MaxPooling2D  (None, 14, 14, 64)       0         \n",
      " )                                                               \n",
      "                                                                 \n",
      " dropout (Dropout)           (None, 14, 14, 64)        0         \n",
      "                                                                 \n",
      " conv2d_2 (Conv2D)           (None, 14, 14, 128)       73856     \n",
      "                                                                 \n",
      " conv2d_3 (Conv2D)           (None, 14, 14, 128)       147584    \n",
      "                                                                 \n",
      " batch_normalization_1 (Batc  (None, 14, 14, 128)      512       \n",
      " hNormalization)                                                 \n",
      "                                                                 \n",
      " max_pooling2d_1 (MaxPooling  (None, 7, 7, 128)        0         \n",
      " 2D)                                                             \n",
      "                                                                 \n",
      " dropout_1 (Dropout)         (None, 7, 7, 128)         0         \n",
      "                                                                 \n",
      " conv2d_4 (Conv2D)           (None, 7, 7, 256)         295168    \n",
      "                                                                 \n",
      " conv2d_5 (Conv2D)           (None, 7, 7, 256)         590080    \n",
      "                                                                 \n",
      " batch_normalization_2 (Batc  (None, 7, 7, 256)        1024      \n",
      " hNormalization)                                                 \n",
      "                                                                 \n",
      " max_pooling2d_2 (MaxPooling  (None, 3, 3, 256)        0         \n",
      " 2D)                                                             \n",
      "                                                                 \n",
      " dropout_2 (Dropout)         (None, 3, 3, 256)         0         \n",
      "                                                                 \n",
      " flatten (Flatten)           (None, 2304)              0         \n",
      "                                                                 \n",
      " dense (Dense)               (None, 2048)              4720640   \n",
      "                                                                 \n",
      " dropout_3 (Dropout)         (None, 2048)              0         \n",
      "                                                                 \n",
      " dense_1 (Dense)             (None, 512)               1049088   \n",
      "                                                                 \n",
      " dropout_4 (Dropout)         (None, 512)               0         \n",
      "                                                                 \n",
      " dense_2 (Dense)             (None, 128)               65664     \n",
      "                                                                 \n",
      " batch_normalization_3 (Batc  (None, 128)              512       \n",
      " hNormalization)                                                 \n",
      "                                                                 \n",
      " dropout_5 (Dropout)         (None, 128)               0         \n",
      "                                                                 \n",
      " dense_3 (Dense)             (None, 10)                1290      \n",
      "                                                                 \n",
      "=================================================================\n",
      "Total params: 6,983,242\n",
      "Trainable params: 6,982,090\n",
      "Non-trainable params: 1,152\n",
      "_________________________________________________________________\n",
      "None\n"
     ]
    }
   ],
   "source": [
    "print(model6.summary())"
   ]
  },
  {
   "cell_type": "code",
   "execution_count": 34,
   "metadata": {
    "colab": {
     "base_uri": "https://localhost:8080/",
     "height": 1000
    },
    "id": "BRB9TP-V2eOc",
    "outputId": "5b667269-4e78-4a1e-9a1b-3c1da3c6ef27"
   },
   "outputs": [
    {
     "data": {
      "image/png": "[encoded data removed]",
      "text/plain": [
       "<IPython.core.display.Image object>"
      ]
     },
     "execution_count": 34,
     "metadata": {},
     "output_type": "execute_result"
    }
   ],
   "source": [
    "from tensorflow.keras.utils import plot_model\n",
    "#looking at the  CNN model\n",
    "plot_model(model6, show_shapes=True, show_layer_names=True)"
   ]
  },
  {
   "cell_type": "code",
   "execution_count": 35,
   "metadata": {
    "id": "oTIRoU2mepuJ"
   },
   "outputs": [],
   "source": [
    "model6.compile(optimizer=tf.optimizers.Adam(),\n",
    "                loss='sparse_categorical_crossentropy',\n",
    "                metrics=['accuracy']\n",
    "                )\n",
    "# scale the values between 0 and 1 for both training and validation sets\n",
    "X_train=X_train/255\n",
    "X_test=X_test/255"
   ]
  },
  {
   "cell_type": "code",
   "execution_count": 36,
   "metadata": {
    "colab": {
     "base_uri": "https://localhost:8080/"
    },
    "id": "VyhrREloepuJ",
    "outputId": "44b81853-7322-4c71-aa00-f3c37e052b1c"
   },
   "outputs": [
    {
     "name": "stdout",
     "output_type": "stream",
     "text": [
      "Epoch 1/20\n",
      "985/985 [==============================] - 22s 10ms/step - loss: 0.3257 - accuracy: 0.8994\n",
      "Epoch 2/20\n",
      "985/985 [==============================] - 10s 10ms/step - loss: 0.0935 - accuracy: 0.9732\n",
      "Epoch 3/20\n",
      "985/985 [==============================] - 10s 10ms/step - loss: 0.0712 - accuracy: 0.9803\n",
      "Epoch 4/20\n",
      "985/985 [==============================] - 10s 10ms/step - loss: 0.0572 - accuracy: 0.9838\n",
      "Epoch 5/20\n",
      "985/985 [==============================] - 10s 10ms/step - loss: 0.0472 - accuracy: 0.9868\n",
      "Epoch 6/20\n",
      "985/985 [==============================] - 10s 10ms/step - loss: 0.0484 - accuracy: 0.9865\n",
      "Epoch 7/20\n",
      "985/985 [==============================] - 10s 10ms/step - loss: 0.0422 - accuracy: 0.9881\n",
      "Epoch 8/20\n",
      "985/985 [==============================] - 10s 10ms/step - loss: 0.0331 - accuracy: 0.9906\n",
      "Epoch 9/20\n",
      "985/985 [==============================] - 10s 10ms/step - loss: 0.0379 - accuracy: 0.9904\n",
      "Epoch 10/20\n",
      "985/985 [==============================] - 10s 10ms/step - loss: 0.0289 - accuracy: 0.9918\n",
      "Epoch 11/20\n",
      "985/985 [==============================] - 10s 10ms/step - loss: 0.0280 - accuracy: 0.9924\n",
      "Epoch 12/20\n",
      "985/985 [==============================] - 10s 10ms/step - loss: 0.0247 - accuracy: 0.9928\n",
      "Epoch 13/20\n",
      "985/985 [==============================] - 10s 10ms/step - loss: 0.0230 - accuracy: 0.9935\n",
      "Epoch 14/20\n",
      "985/985 [==============================] - 10s 10ms/step - loss: 0.0224 - accuracy: 0.9933\n",
      "Epoch 15/20\n",
      "985/985 [==============================] - 10s 10ms/step - loss: 0.0192 - accuracy: 0.9952\n",
      "Epoch 16/20\n",
      "985/985 [==============================] - 10s 10ms/step - loss: 0.0180 - accuracy: 0.9950\n",
      "Epoch 17/20\n",
      "985/985 [==============================] - 10s 10ms/step - loss: 0.0173 - accuracy: 0.9951\n",
      "Epoch 18/20\n",
      "985/985 [==============================] - 10s 10ms/step - loss: 0.0146 - accuracy: 0.9959\n",
      "Epoch 19/20\n",
      "985/985 [==============================] - 10s 10ms/step - loss: 0.0138 - accuracy: 0.9962\n",
      "Epoch 20/20\n",
      "985/985 [==============================] - 10s 10ms/step - loss: 0.0117 - accuracy: 0.9967\n"
     ]
    },
    {
     "data": {
      "text/plain": [
       "<keras.callbacks.History at 0x7f50480c1610>"
      ]
     },
     "execution_count": 36,
     "metadata": {},
     "output_type": "execute_result"
    }
   ],
   "source": [
    "model6.fit(X_train, y_train, epochs=20)"
   ]
  },
  {
   "cell_type": "code",
   "execution_count": 37,
   "metadata": {
    "colab": {
     "base_uri": "https://localhost:8080/"
    },
    "id": "UIqvZbpKjin7",
    "outputId": "41ffd2dc-f10a-48ef-aac3-fbf04c9edac9"
   },
   "outputs": [
    {
     "name": "stdout",
     "output_type": "stream",
     "text": [
      "329/329 [==============================] - 2s 4ms/step - loss: 0.0291 - accuracy: 0.9934\n"
     ]
    }
   ],
   "source": [
    "#Evaluating on the model\n",
    "results=model6.evaluate(X_test,y_test)\n",
    "cnn_accuracy = results[1]"
   ]
  },
  {
   "cell_type": "code",
   "execution_count": 38,
   "metadata": {
    "id": "Wg3kgbYWiYtM"
   },
   "outputs": [],
   "source": [
    "#test = pd.read_csv(\"/content/test.csv\")\n",
    "test_images = np.array(test).reshape(test.shape[0],*(28,28,1))\n",
    "X_test = test_images / 255"
   ]
  },
  {
   "cell_type": "code",
   "execution_count": 39,
   "metadata": {
    "colab": {
     "base_uri": "https://localhost:8080/"
    },
    "id": "3IwrQ-W_cmQl",
    "outputId": "e54eec84-edfc-46c0-ba22-dd13cf203bf3"
   },
   "outputs": [
    {
     "data": {
      "text/plain": [
       "array([2, 0, 9, ..., 3, 9, 2])"
      ]
     },
     "execution_count": 39,
     "metadata": {},
     "output_type": "execute_result"
    }
   ],
   "source": [
    "#looking at the y_pred\n",
    "y_pred = np.argmax(model6.predict(X_test), axis=-1)\n",
    "y_pred"
   ]
  },
  {
   "cell_type": "code",
   "execution_count": 40,
   "metadata": {
    "id": "MlZ6FLWk7dP5"
   },
   "outputs": [],
   "source": [
    "#Prediction values\n",
    "submission = pd.read_csv(\"/content/sample_submission.csv\")\n",
    "submission[\"Label\"] = y_pred\n",
    "submission.to_csv(\"/content/submit.csv\", index=False)"
   ]
  },
  {
   "cell_type": "code",
   "execution_count": 41,
   "metadata": {
    "id": "LgOKL4NUepuJ"
   },
   "outputs": [],
   "source": [
    "#Comparing all the accuracy values\n",
    "accuracies = pd.DataFrame([[lr_accuracy, sgd_accuracy, svc_accuracy, dt_accuracy, rf_accuracy, cnn_accuracy]], columns=['lr','sgd','svc', 'dt', 'rf', 'cnn_accuracy']).T\n",
    "accuracies.rename(columns={0 :'accuracy'}, inplace=True)\n",
    "accuracies.reset_index(inplace=True)\n",
    "accuracies['accuracy'] = accuracies.accuracy*100"
   ]
  },
  {
   "cell_type": "code",
   "execution_count": 42,
   "metadata": {
    "colab": {
     "base_uri": "https://localhost:8080/",
     "height": 235
    },
    "id": "xTQfPoJaepuK",
    "outputId": "d5f2ac42-ae2b-49cc-bf71-12867b9b3834"
   },
   "outputs": [
    {
     "data": {
      "text/html": [
       "\n",
       "  <div id=\"df-8a0574f1-c4e7-412c-9a9c-1e4938b93750\">\n",
       "    <div class=\"colab-df-container\">\n",
       "      <div>\n",
       "<style scoped>\n",
       "    .dataframe tbody tr th:only-of-type {\n",
       "        vertical-align: middle;\n",
       "    }\n",
       "\n",
       "    .dataframe tbody tr th {\n",
       "        vertical-align: top;\n",
       "    }\n",
       "\n",
       "    .dataframe thead th {\n",
       "        text-align: right;\n",
       "    }\n",
       "</style>\n",
       "<table border=\"1\" class=\"dataframe\">\n",
       "  <thead>\n",
       "    <tr style=\"text-align: right;\">\n",
       "      <th></th>\n",
       "      <th>index</th>\n",
       "      <th>accuracy</th>\n",
       "    </tr>\n",
       "  </thead>\n",
       "  <tbody>\n",
       "    <tr>\n",
       "      <th>0</th>\n",
       "      <td>lr</td>\n",
       "      <td>91.750000</td>\n",
       "    </tr>\n",
       "    <tr>\n",
       "      <th>1</th>\n",
       "      <td>sgd</td>\n",
       "      <td>87.107143</td>\n",
       "    </tr>\n",
       "    <tr>\n",
       "      <th>2</th>\n",
       "      <td>svc</td>\n",
       "      <td>97.476190</td>\n",
       "    </tr>\n",
       "    <tr>\n",
       "      <th>3</th>\n",
       "      <td>dt</td>\n",
       "      <td>85.297619</td>\n",
       "    </tr>\n",
       "    <tr>\n",
       "      <th>4</th>\n",
       "      <td>rf</td>\n",
       "      <td>96.464286</td>\n",
       "    </tr>\n",
       "    <tr>\n",
       "      <th>5</th>\n",
       "      <td>cnn_accuracy</td>\n",
       "      <td>99.342859</td>\n",
       "    </tr>\n",
       "  </tbody>\n",
       "</table>\n",
       "</div>\n",
       "      <button class=\"colab-df-convert\" onclick=\"convertToInteractive('df-8a0574f1-c4e7-412c-9a9c-1e4938b93750')\"\n",
       "              title=\"Convert this dataframe to an interactive table.\"\n",
       "              style=\"display:none;\">\n",
       "        \n",
       "  <svg xmlns=\"http://www.w3.org/2000/svg\" height=\"24px\"viewBox=\"0 0 24 24\"\n",
       "       width=\"24px\">\n",
       "    <path d=\"M0 0h24v24H0V0z\" fill=\"none\"/>\n",
       "    <path d=\"M18.56 5.44l.94 2.06.94-2.06 2.06-.94-2.06-.94-.94-2.06-.94 2.06-2.06.94zm-11 1L8.5 8.5l.94-2.06 2.06-.94-2.06-.94L8.5 2.5l-.94 2.06-2.06.94zm10 10l.94 2.06.94-2.06 2.06-.94-2.06-.94-.94-2.06-.94 2.06-2.06.94z\"/><path d=\"M17.41 7.96l-1.37-1.37c-.4-.4-.92-.59-1.43-.59-.52 0-1.04.2-1.43.59L10.3 9.45l-7.72 7.72c-.78.78-.78 2.05 0 2.83L4 21.41c.39.39.9.59 1.41.59.51 0 1.02-.2 1.41-.59l7.78-7.78 2.81-2.81c.8-.78.8-2.07 0-2.86zM5.41 20L4 18.59l7.72-7.72 1.47 1.35L5.41 20z\"/>\n",
       "  </svg>\n",
       "      </button>\n",
       "      \n",
       "  <style>\n",
       "    .colab-df-container {\n",
       "      display:flex;\n",
       "      flex-wrap:wrap;\n",
       "      gap: 12px;\n",
       "    }\n",
       "\n",
       "    .colab-df-convert {\n",
       "      background-color: #E8F0FE;\n",
       "      border: none;\n",
       "      border-radius: 50%;\n",
       "      cursor: pointer;\n",
       "      display: none;\n",
       "      fill: #1967D2;\n",
       "      height: 32px;\n",
       "      padding: 0 0 0 0;\n",
       "      width: 32px;\n",
       "    }\n",
       "\n",
       "    .colab-df-convert:hover {\n",
       "      background-color: #E2EBFA;\n",
       "      box-shadow: 0px 1px 2px rgba(60, 64, 67, 0.3), 0px 1px 3px 1px rgba(60, 64, 67, 0.15);\n",
       "      fill: #174EA6;\n",
       "    }\n",
       "\n",
       "    [theme=dark] .colab-df-convert {\n",
       "      background-color: #3B4455;\n",
       "      fill: #D2E3FC;\n",
       "    }\n",
       "\n",
       "    [theme=dark] .colab-df-convert:hover {\n",
       "      background-color: #434B5C;\n",
       "      box-shadow: 0px 1px 3px 1px rgba(0, 0, 0, 0.15);\n",
       "      filter: drop-shadow(0px 1px 2px rgba(0, 0, 0, 0.3));\n",
       "      fill: #FFFFFF;\n",
       "    }\n",
       "  </style>\n",
       "\n",
       "      <script>\n",
       "        const buttonEl =\n",
       "          document.querySelector('#df-8a0574f1-c4e7-412c-9a9c-1e4938b93750 button.colab-df-convert');\n",
       "        buttonEl.style.display =\n",
       "          google.colab.kernel.accessAllowed ? 'block' : 'none';\n",
       "\n",
       "        async function convertToInteractive(key) {\n",
       "          const element = document.querySelector('#df-8a0574f1-c4e7-412c-9a9c-1e4938b93750');\n",
       "          const dataTable =\n",
       "            await google.colab.kernel.invokeFunction('convertToInteractive',\n",
       "                                                     [key], {});\n",
       "          if (!dataTable) return;\n",
       "\n",
       "          const docLinkHtml = 'Like what you see? Visit the ' +\n",
       "            '<a target=\"_blank\" href=https://colab.research.google.com/notebooks/data_table.ipynb>data table notebook</a>'\n",
       "            + ' to learn more about interactive tables.';\n",
       "          element.innerHTML = '';\n",
       "          dataTable['output_type'] = 'display_data';\n",
       "          await google.colab.output.renderOutput(dataTable, element);\n",
       "          const docLink = document.createElement('div');\n",
       "          docLink.innerHTML = docLinkHtml;\n",
       "          element.appendChild(docLink);\n",
       "        }\n",
       "      </script>\n",
       "    </div>\n",
       "  </div>\n",
       "  "
      ],
      "text/plain": [
       "          index   accuracy\n",
       "0            lr  91.750000\n",
       "1           sgd  87.107143\n",
       "2           svc  97.476190\n",
       "3            dt  85.297619\n",
       "4            rf  96.464286\n",
       "5  cnn_accuracy  99.342859"
      ]
     },
     "execution_count": 42,
     "metadata": {},
     "output_type": "execute_result"
    }
   ],
   "source": [
    "accuracies"
   ]
  },
  {
   "cell_type": "code",
   "execution_count": 43,
   "metadata": {
    "colab": {
     "base_uri": "https://localhost:8080/",
     "height": 269
    },
    "id": "m4y1zaYVepuK",
    "outputId": "6fda53ed-5773-4998-9bf3-5cbc92a452b7"
   },
   "outputs": [
    {
     "data": {
      "image/png": "[encoded data removed]",
      "text/plain": [
       "<Figure size 576x288 with 1 Axes>"
      ]
     },
     "metadata": {
      "needs_background": "light"
     },
     "output_type": "display_data"
    }
   ],
   "source": [
    "#Plotting accuracies of various models\n",
    "plt.rcParams[\"figure.figsize\"] = (8,4)\n",
    "plt.plot(accuracies['index'], accuracies['accuracy'])\n",
    "plt.show()"
   ]
  },
  {
   "cell_type": "markdown",
   "metadata": {
    "id": "b5b3v9Jb9uCh"
   },
   "source": [
    "Looking at all the models, CNN gives highest accuracy and it is the best model."
   ]
  }
 ],
 "metadata": {
  "accelerator": "GPU",
  "colab": {
   "collapsed_sections": [
    "LiSPxQyWepuA"
   ],
   "name": "new-digit.ipynb",
   "provenance": []
  },
  "kernelspec": {
   "display_name": "Python 3",
   "language": "python",
   "name": "python3"
  },
  "language_info": {
   "codemirror_mode": {
    "name": "ipython",
    "version": 3
   },
   "file_extension": ".py",
   "mimetype": "text/x-python",
   "name": "python",
   "nbconvert_exporter": "python",
   "pygments_lexer": "ipython3",
   "version": "3.8.8"
  }
 },
 "nbformat": 4,
 "nbformat_minor": 1
}
